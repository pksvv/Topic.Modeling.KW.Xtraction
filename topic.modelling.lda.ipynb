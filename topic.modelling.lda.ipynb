{
 "cells": [
  {
   "cell_type": "markdown",
   "metadata": {},
   "source": [
    "#### LDA : Latent Dirichlet Allocation\n",
    "\n",
    "LDA is a probabilistic model to find cluster assignments for documents."
   ]
  },
  {
   "cell_type": "code",
   "execution_count": 1,
   "metadata": {},
   "outputs": [],
   "source": [
    "import pandas as pd\n",
    "import matplotlib.pyplot as plt\n",
    "\n",
    "from sklearn.decomposition import LatentDirichletAllocation\n",
    "from sklearn.feature_extraction.text import CountVectorizer"
   ]
  },
  {
   "cell_type": "code",
   "execution_count": 2,
   "metadata": {},
   "outputs": [
    {
     "data": {
      "text/html": [
       "<div>\n",
       "<style scoped>\n",
       "    .dataframe tbody tr th:only-of-type {\n",
       "        vertical-align: middle;\n",
       "    }\n",
       "\n",
       "    .dataframe tbody tr th {\n",
       "        vertical-align: top;\n",
       "    }\n",
       "\n",
       "    .dataframe thead th {\n",
       "        text-align: right;\n",
       "    }\n",
       "</style>\n",
       "<table border=\"1\" class=\"dataframe\">\n",
       "  <thead>\n",
       "    <tr style=\"text-align: right;\">\n",
       "      <th></th>\n",
       "      <th>publish_date</th>\n",
       "      <th>headline_text</th>\n",
       "    </tr>\n",
       "  </thead>\n",
       "  <tbody>\n",
       "    <tr>\n",
       "      <th>0</th>\n",
       "      <td>20030219</td>\n",
       "      <td>aba decides against community broadcasting lic...</td>\n",
       "    </tr>\n",
       "    <tr>\n",
       "      <th>1</th>\n",
       "      <td>20030219</td>\n",
       "      <td>act fire witnesses must be aware of defamation</td>\n",
       "    </tr>\n",
       "    <tr>\n",
       "      <th>2</th>\n",
       "      <td>20030219</td>\n",
       "      <td>a g calls for infrastructure protection summit</td>\n",
       "    </tr>\n",
       "    <tr>\n",
       "      <th>3</th>\n",
       "      <td>20030219</td>\n",
       "      <td>air nz staff in aust strike for pay rise</td>\n",
       "    </tr>\n",
       "    <tr>\n",
       "      <th>4</th>\n",
       "      <td>20030219</td>\n",
       "      <td>air nz strike to affect australian travellers</td>\n",
       "    </tr>\n",
       "  </tbody>\n",
       "</table>\n",
       "</div>"
      ],
      "text/plain": [
       "   publish_date                                      headline_text\n",
       "0      20030219  aba decides against community broadcasting lic...\n",
       "1      20030219     act fire witnesses must be aware of defamation\n",
       "2      20030219     a g calls for infrastructure protection summit\n",
       "3      20030219           air nz staff in aust strike for pay rise\n",
       "4      20030219      air nz strike to affect australian travellers"
      ]
     },
     "execution_count": 2,
     "metadata": {},
     "output_type": "execute_result"
    }
   ],
   "source": [
    "headline_df = pd.read_csv('abcnews-date-text.csv')\n",
    "headline_df.head()"
   ]
  },
  {
   "cell_type": "code",
   "execution_count": 3,
   "metadata": {},
   "outputs": [
    {
     "data": {
      "text/plain": [
       "(1226258, 2)"
      ]
     },
     "execution_count": 3,
     "metadata": {},
     "output_type": "execute_result"
    }
   ],
   "source": [
    "headline_df.shape"
   ]
  },
  {
   "cell_type": "code",
   "execution_count": 5,
   "metadata": {},
   "outputs": [],
   "source": [
    "NUM_SAMPLES = 10000\n",
    "df = headline_df.sample(NUM_SAMPLES,replace=False).reset_index(drop=True)"
   ]
  },
  {
   "cell_type": "code",
   "execution_count": 6,
   "metadata": {},
   "outputs": [
    {
     "data": {
      "text/plain": [
       "(10000, 2)"
      ]
     },
     "execution_count": 6,
     "metadata": {},
     "output_type": "execute_result"
    }
   ],
   "source": [
    "df.shape"
   ]
  },
  {
   "cell_type": "code",
   "execution_count": 8,
   "metadata": {},
   "outputs": [
    {
     "data": {
      "text/plain": [
       "0      funding allocated to help protect king is brand\n",
       "1                    wind farm planned near mt gambier\n",
       "2    trevor ruthenberg apologises for wrongly claiming\n",
       "3              rio mayor wants pokemon go for olympics\n",
       "4                              swan warns of more cuts\n",
       "5                             all steady on jobs front\n",
       "6            english cricket severs ties with stanford\n",
       "7    green rearranging the deckchairs on the rms fa...\n",
       "8           rogers waits for verdict on assault claims\n",
       "9                               dont blame the captain\n",
       "Name: headline_text, dtype: object"
      ]
     },
     "execution_count": 8,
     "metadata": {},
     "output_type": "execute_result"
    }
   ],
   "source": [
    "X = df['headline_text']\n",
    "X.head(10)"
   ]
  },
  {
   "cell_type": "code",
   "execution_count": 9,
   "metadata": {},
   "outputs": [],
   "source": [
    "cv = CountVectorizer(ngram_range=(2,2))\n",
    "\n",
    "tcv = cv.fit_transform(X)"
   ]
  },
  {
   "cell_type": "code",
   "execution_count": 10,
   "metadata": {},
   "outputs": [
    {
     "data": {
      "text/plain": [
       "<10000x45018 sparse matrix of type '<class 'numpy.int64'>'\n",
       "\twith 55290 stored elements in Compressed Sparse Row format>"
      ]
     },
     "execution_count": 10,
     "metadata": {},
     "output_type": "execute_result"
    }
   ],
   "source": [
    "tcv"
   ]
  },
  {
   "cell_type": "code",
   "execution_count": 12,
   "metadata": {},
   "outputs": [],
   "source": [
    "feature_names = cv.get_feature_names()"
   ]
  },
  {
   "cell_type": "code",
   "execution_count": 13,
   "metadata": {},
   "outputs": [
    {
     "data": {
      "text/plain": [
       "['adrift for',\n",
       " 'adrift in',\n",
       " 'ads dishonest',\n",
       " 'ads point',\n",
       " 'adult disneyland',\n",
       " 'adult store',\n",
       " 'adults and',\n",
       " 'adults study',\n",
       " 'advance for']"
      ]
     },
     "execution_count": 13,
     "metadata": {},
     "output_type": "execute_result"
    }
   ],
   "source": [
    "feature_names[1000:1009]"
   ]
  },
  {
   "cell_type": "code",
   "execution_count": 17,
   "metadata": {},
   "outputs": [],
   "source": [
    "NUM_TOPICS = 20\n",
    "\n",
    "lda_model = LatentDirichletAllocation(n_components=NUM_TOPICS,max_iter=20)\n",
    "lda = lda_model.fit_transform(tcv)"
   ]
  },
  {
   "cell_type": "markdown",
   "metadata": {},
   "source": [
    "### LDA - Document topic matrix"
   ]
  },
  {
   "cell_type": "code",
   "execution_count": 18,
   "metadata": {},
   "outputs": [
    {
     "data": {
      "text/plain": [
       "(10000, 20)"
      ]
     },
     "execution_count": 18,
     "metadata": {},
     "output_type": "execute_result"
    }
   ],
   "source": [
    "lda.shape"
   ]
  },
  {
   "cell_type": "code",
   "execution_count": 22,
   "metadata": {},
   "outputs": [
    {
     "data": {
      "text/plain": [
       "array([[0.84166667, 0.00833333, 0.00833333, 0.00833333, 0.00833333,\n",
       "        0.00833333, 0.00833333, 0.00833333, 0.00833333, 0.00833333,\n",
       "        0.00833333, 0.00833333, 0.00833333, 0.00833333, 0.00833333,\n",
       "        0.00833333, 0.00833333, 0.00833333, 0.00833333, 0.00833333],\n",
       "       [0.00625   , 0.00625   , 0.00625   , 0.00625   , 0.00625   ,\n",
       "        0.00625   , 0.00625   , 0.00625   , 0.00625   , 0.00625   ,\n",
       "        0.00625   , 0.00625   , 0.00625   , 0.00625   , 0.00625   ,\n",
       "        0.00625   , 0.00625   , 0.00625   , 0.00625   , 0.88125   ],\n",
       "       [0.00714286, 0.00714286, 0.00714286, 0.00714286, 0.00714286,\n",
       "        0.00714286, 0.00714286, 0.00714286, 0.00714286, 0.00714286,\n",
       "        0.00714286, 0.00714286, 0.00714286, 0.00714286, 0.86428571,\n",
       "        0.00714286, 0.00714286, 0.00714286, 0.00714286, 0.00714286]])"
      ]
     },
     "execution_count": 22,
     "metadata": {},
     "output_type": "execute_result"
    }
   ],
   "source": [
    "lda[6:9]"
   ]
  },
  {
   "cell_type": "code",
   "execution_count": 23,
   "metadata": {},
   "outputs": [
    {
     "data": {
      "text/plain": [
       "1.0000000000000004"
      ]
     },
     "execution_count": 23,
     "metadata": {},
     "output_type": "execute_result"
    }
   ],
   "source": [
    "sum(lda[9])"
   ]
  },
  {
   "cell_type": "code",
   "execution_count": 19,
   "metadata": {},
   "outputs": [
    {
     "data": {
      "text/plain": [
       "(20, 45018)"
      ]
     },
     "execution_count": 19,
     "metadata": {},
     "output_type": "execute_result"
    }
   ],
   "source": [
    "lda_model.components_.shape"
   ]
  },
  {
   "cell_type": "code",
   "execution_count": 24,
   "metadata": {},
   "outputs": [],
   "source": [
    "def print_topic(identifier, top_words = 10):\n",
    "    \n",
    "    for topic_id, topic_words_prob in enumerate(lda_model.components_):\n",
    "        if topic_id == identifier:\n",
    "            print(f'Topic ID : {topic_id}')\n",
    "            \n",
    "            top_feature_names = [feature_names[i] for i in topic_words_prob.argsort()[: -top_words-1 : -1]]\n",
    "            \n",
    "            print(' '.join(top_feature_names))"
   ]
  },
  {
   "cell_type": "code",
   "execution_count": 25,
   "metadata": {},
   "outputs": [
    {
     "name": "stdout",
     "output_type": "stream",
     "text": [
      "Topic ID : 0\n",
      "to be urged to calls for\n",
      "Topic ID : 1\n",
      "call for country hour to be\n",
      "Topic ID : 2\n",
      "to be in the urged to\n",
      "Topic ID : 3\n",
      "out of to be for the\n",
      "Topic ID : 4\n",
      "abc sport to be abc entertainment\n",
      "Topic ID : 5\n",
      "found in out of murder of\n",
      "Topic ID : 6\n",
      "finance with alan kohler with alan\n",
      "Topic ID : 7\n",
      "on the search for police search\n",
      "Topic ID : 8\n",
      "jailed for out of in nsw\n",
      "Topic ID : 9\n",
      "streaming updates live streaming to be\n",
      "Topic ID : 10\n",
      "calls for wall street at the\n",
      "Topic ID : 11\n",
      "the drum covid 19 to be\n",
      "Topic ID : 12\n",
      "call for calls for to the\n",
      "Topic ID : 13\n",
      "in the to be charged over\n"
     ]
    }
   ],
   "source": [
    "for i in range(14):\n",
    "    print_topic(i, top_words=3)"
   ]
  },
  {
   "cell_type": "code",
   "execution_count": 26,
   "metadata": {},
   "outputs": [],
   "source": [
    "topics = []\n",
    "\n",
    "for i in range(NUM_SAMPLES):\n",
    "    topics.append(lda[i].argmax())"
   ]
  },
  {
   "cell_type": "code",
   "execution_count": 27,
   "metadata": {},
   "outputs": [
    {
     "data": {
      "text/html": [
       "<div>\n",
       "<style scoped>\n",
       "    .dataframe tbody tr th:only-of-type {\n",
       "        vertical-align: middle;\n",
       "    }\n",
       "\n",
       "    .dataframe tbody tr th {\n",
       "        vertical-align: top;\n",
       "    }\n",
       "\n",
       "    .dataframe thead th {\n",
       "        text-align: right;\n",
       "    }\n",
       "</style>\n",
       "<table border=\"1\" class=\"dataframe\">\n",
       "  <thead>\n",
       "    <tr style=\"text-align: right;\">\n",
       "      <th></th>\n",
       "      <th>publish_date</th>\n",
       "      <th>headline_text</th>\n",
       "      <th>topic</th>\n",
       "    </tr>\n",
       "  </thead>\n",
       "  <tbody>\n",
       "    <tr>\n",
       "      <th>0</th>\n",
       "      <td>20050302</td>\n",
       "      <td>funding allocated to help protect king is brand</td>\n",
       "      <td>18</td>\n",
       "    </tr>\n",
       "    <tr>\n",
       "      <th>1</th>\n",
       "      <td>20091002</td>\n",
       "      <td>wind farm planned near mt gambier</td>\n",
       "      <td>5</td>\n",
       "    </tr>\n",
       "    <tr>\n",
       "      <th>2</th>\n",
       "      <td>20180718</td>\n",
       "      <td>trevor ruthenberg apologises for wrongly claiming</td>\n",
       "      <td>2</td>\n",
       "    </tr>\n",
       "    <tr>\n",
       "      <th>3</th>\n",
       "      <td>20160714</td>\n",
       "      <td>rio mayor wants pokemon go for olympics</td>\n",
       "      <td>19</td>\n",
       "    </tr>\n",
       "    <tr>\n",
       "      <th>4</th>\n",
       "      <td>20120924</td>\n",
       "      <td>swan warns of more cuts</td>\n",
       "      <td>8</td>\n",
       "    </tr>\n",
       "  </tbody>\n",
       "</table>\n",
       "</div>"
      ],
      "text/plain": [
       "   publish_date                                      headline_text  topic\n",
       "0      20050302    funding allocated to help protect king is brand     18\n",
       "1      20091002                  wind farm planned near mt gambier      5\n",
       "2      20180718  trevor ruthenberg apologises for wrongly claiming      2\n",
       "3      20160714            rio mayor wants pokemon go for olympics     19\n",
       "4      20120924                            swan warns of more cuts      8"
      ]
     },
     "execution_count": 27,
     "metadata": {},
     "output_type": "execute_result"
    }
   ],
   "source": [
    "df['topic'] = topics\n",
    "\n",
    "df.head()"
   ]
  },
  {
   "cell_type": "code",
   "execution_count": 28,
   "metadata": {},
   "outputs": [
    {
     "name": "stdout",
     "output_type": "stream",
     "text": [
      "Topic ID : 18\n",
      "set to to be to help\n"
     ]
    }
   ],
   "source": [
    "print_topic(18, top_words=3)"
   ]
  },
  {
   "cell_type": "code",
   "execution_count": 30,
   "metadata": {},
   "outputs": [
    {
     "data": {
      "text/plain": [
       "'funding allocated to help protect king is brand'"
      ]
     },
     "execution_count": 30,
     "metadata": {},
     "output_type": "execute_result"
    }
   ],
   "source": [
    "df['headline_text'][0]"
   ]
  },
  {
   "cell_type": "code",
   "execution_count": 31,
   "metadata": {},
   "outputs": [],
   "source": [
    "from sklearn.manifold import TSNE\n",
    "\n",
    "tsne = TSNE(n_components=2,init='pca',random_state=0)"
   ]
  },
  {
   "cell_type": "code",
   "execution_count": 32,
   "metadata": {},
   "outputs": [],
   "source": [
    "lda_2d_tsne = tsne.fit_transform(lda)"
   ]
  },
  {
   "cell_type": "code",
   "execution_count": 33,
   "metadata": {},
   "outputs": [
    {
     "data": {
      "text/plain": [
       "(10000, 2)"
      ]
     },
     "execution_count": 33,
     "metadata": {},
     "output_type": "execute_result"
    }
   ],
   "source": [
    "lda_df_tsne = pd.DataFrame(lda_2d_tsne)\n",
    "\n",
    "lda_df_tsne.shape"
   ]
  },
  {
   "cell_type": "code",
   "execution_count": 36,
   "metadata": {},
   "outputs": [
    {
     "data": {
      "image/png": "[encoded data removed]",
      "text/plain": [
       "<Figure size 864x720 with 1 Axes>"
      ]
     },
     "metadata": {
      "needs_background": "light"
     },
     "output_type": "display_data"
    }
   ],
   "source": [
    "plt.subplots(figsize=(12,10))\n",
    "\n",
    "plt.axis('equal');\n",
    "\n",
    "plt.scatter(lda_df_tsne[0],lda_df_tsne[1],c=df['topic'],cmap=plt.cm.Spectral);"
   ]
  }
 ],
 "metadata": {
  "kernelspec": {
   "display_name": "Python 3",
   "language": "python",
   "name": "python3"
  },
  "language_info": {
   "codemirror_mode": {
    "name": "ipython",
    "version": 3
   },
   "file_extension": ".py",
   "mimetype": "text/x-python",
   "name": "python",
   "nbconvert_exporter": "python",
   "pygments_lexer": "ipython3",
   "version": "3.8.3"
  }
 },
 "nbformat": 4,
 "nbformat_minor": 4
}
