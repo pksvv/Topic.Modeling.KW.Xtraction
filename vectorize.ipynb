{
 "cells": [
  {
   "cell_type": "code",
   "execution_count": 1,
   "metadata": {},
   "outputs": [
    {
     "data": {
      "text/plain": [
       "'0.23.2'"
      ]
     },
     "execution_count": 1,
     "metadata": {},
     "output_type": "execute_result"
    }
   ],
   "source": [
    "import sklearn\n",
    "sklearn.__version__"
   ]
  },
  {
   "cell_type": "code",
   "execution_count": 2,
   "metadata": {},
   "outputs": [],
   "source": [
    "from sklearn.feature_extraction.text import CountVectorizer, TfidfVectorizer"
   ]
  },
  {
   "cell_type": "code",
   "execution_count": 3,
   "metadata": {},
   "outputs": [],
   "source": [
    "train = ['Be yourself, everyone else is already taken.',\n",
    "         'A room without books is like a body without a soul.',\n",
    "         'Be the change you wish to see in the world.',\n",
    "         \"If you tell the truth, you don't have to remember anything\",\n",
    "         'Always forgive your enemies, nothing annoys them so much.']"
   ]
  },
  {
   "cell_type": "code",
   "execution_count": 4,
   "metadata": {},
   "outputs": [
    {
     "data": {
      "text/plain": [
       "['Be yourself, everyone else is already taken.',\n",
       " 'A room without books is like a body without a soul.',\n",
       " 'Be the change you wish to see in the world.',\n",
       " \"If you tell the truth, you don't have to remember anything\",\n",
       " 'Always forgive your enemies, nothing annoys them so much.']"
      ]
     },
     "execution_count": 4,
     "metadata": {},
     "output_type": "execute_result"
    }
   ],
   "source": [
    "train"
   ]
  },
  {
   "cell_type": "code",
   "execution_count": 5,
   "metadata": {},
   "outputs": [
    {
     "data": {
      "text/plain": [
       "CountVectorizer()"
      ]
     },
     "execution_count": 5,
     "metadata": {},
     "output_type": "execute_result"
    }
   ],
   "source": [
    "cv = CountVectorizer()\n",
    "cv.fit(train)"
   ]
  },
  {
   "cell_type": "code",
   "execution_count": 6,
   "metadata": {},
   "outputs": [
    {
     "data": {
      "text/plain": [
       "{'be': 4,\n",
       " 'yourself': 36,\n",
       " 'everyone': 11,\n",
       " 'else': 9,\n",
       " 'is': 16,\n",
       " 'already': 0,\n",
       " 'taken': 25,\n",
       " 'room': 21,\n",
       " 'without': 32,\n",
       " 'books': 6,\n",
       " 'like': 17,\n",
       " 'body': 5,\n",
       " 'soul': 24,\n",
       " 'the': 27,\n",
       " 'change': 7,\n",
       " 'you': 34,\n",
       " 'wish': 31,\n",
       " 'to': 29,\n",
       " 'see': 22,\n",
       " 'in': 15,\n",
       " 'world': 33,\n",
       " 'if': 14,\n",
       " 'tell': 26,\n",
       " 'truth': 30,\n",
       " 'don': 8,\n",
       " 'have': 13,\n",
       " 'remember': 20,\n",
       " 'anything': 3,\n",
       " 'always': 1,\n",
       " 'forgive': 12,\n",
       " 'your': 35,\n",
       " 'enemies': 10,\n",
       " 'nothing': 19,\n",
       " 'annoys': 2,\n",
       " 'them': 28,\n",
       " 'so': 23,\n",
       " 'much': 18}"
      ]
     },
     "execution_count": 6,
     "metadata": {},
     "output_type": "execute_result"
    }
   ],
   "source": [
    "cv.vocabulary_"
   ]
  },
  {
   "cell_type": "code",
   "execution_count": 7,
   "metadata": {},
   "outputs": [
    {
     "data": {
      "text/plain": [
       "3"
      ]
     },
     "execution_count": 7,
     "metadata": {},
     "output_type": "execute_result"
    }
   ],
   "source": [
    "cv.vocabulary_.get('anything')"
   ]
  },
  {
   "cell_type": "code",
   "execution_count": 8,
   "metadata": {},
   "outputs": [
    {
     "data": {
      "text/plain": [
       "<5x37 sparse matrix of type '<class 'numpy.int64'>'\n",
       "\twith 42 stored elements in Compressed Sparse Row format>"
      ]
     },
     "execution_count": 8,
     "metadata": {},
     "output_type": "execute_result"
    }
   ],
   "source": [
    "tr_vec = cv.transform(train)\n",
    "tr_vec"
   ]
  },
  {
   "cell_type": "code",
   "execution_count": 9,
   "metadata": {},
   "outputs": [
    {
     "name": "stdout",
     "output_type": "stream",
     "text": [
      "[[1 0 0 0 1 0 0 0 0 1 0 1 0 0 0 0 1 0 0 0 0 0 0 0 0 1 0 0 0 0 0 0 0 0 0 0\n",
      "  1]\n",
      " [0 0 0 0 0 1 1 0 0 0 0 0 0 0 0 0 1 1 0 0 0 1 0 0 1 0 0 0 0 0 0 0 2 0 0 0\n",
      "  0]\n",
      " [0 0 0 0 1 0 0 1 0 0 0 0 0 0 0 1 0 0 0 0 0 0 1 0 0 0 0 2 0 1 0 1 0 1 1 0\n",
      "  0]\n",
      " [0 0 0 1 0 0 0 0 1 0 0 0 0 1 1 0 0 0 0 0 1 0 0 0 0 0 1 1 0 1 1 0 0 0 2 0\n",
      "  0]\n",
      " [0 1 1 0 0 0 0 0 0 0 1 0 1 0 0 0 0 0 1 1 0 0 0 1 0 0 0 0 1 0 0 0 0 0 0 1\n",
      "  0]]\n"
     ]
    }
   ],
   "source": [
    "print(tr_vec.toarray())"
   ]
  },
  {
   "cell_type": "code",
   "execution_count": 10,
   "metadata": {},
   "outputs": [
    {
     "data": {
      "text/plain": [
       "[array(['already', 'be', 'else', 'everyone', 'is', 'taken', 'yourself'],\n",
       "       dtype='<U8'),\n",
       " array(['body', 'books', 'is', 'like', 'room', 'soul', 'without'],\n",
       "       dtype='<U8'),\n",
       " array(['be', 'change', 'in', 'see', 'the', 'to', 'wish', 'world', 'you'],\n",
       "       dtype='<U8'),\n",
       " array(['anything', 'don', 'have', 'if', 'remember', 'tell', 'the', 'to',\n",
       "        'truth', 'you'], dtype='<U8'),\n",
       " array(['always', 'annoys', 'enemies', 'forgive', 'much', 'nothing', 'so',\n",
       "        'them', 'your'], dtype='<U8')]"
      ]
     },
     "execution_count": 10,
     "metadata": {},
     "output_type": "execute_result"
    }
   ],
   "source": [
    "cv.inverse_transform(tr_vec)"
   ]
  },
  {
   "cell_type": "code",
   "execution_count": 11,
   "metadata": {},
   "outputs": [],
   "source": [
    "ngcv = CountVectorizer(ngram_range=(2,3))\n",
    "ngv = ngcv.fit(train)"
   ]
  },
  {
   "cell_type": "code",
   "execution_count": 12,
   "metadata": {},
   "outputs": [
    {
     "data": {
      "text/plain": [
       "CountVectorizer(ngram_range=(2, 3))"
      ]
     },
     "execution_count": 12,
     "metadata": {},
     "output_type": "execute_result"
    }
   ],
   "source": [
    "ngv"
   ]
  },
  {
   "cell_type": "code",
   "execution_count": 13,
   "metadata": {},
   "outputs": [
    {
     "data": {
      "text/plain": [
       "{'be yourself': 7,\n",
       " 'yourself everyone': 73,\n",
       " 'everyone else': 21,\n",
       " 'else is': 17,\n",
       " 'is already': 31,\n",
       " 'already taken': 0,\n",
       " 'be yourself everyone': 8,\n",
       " 'yourself everyone else': 74,\n",
       " 'everyone else is': 22,\n",
       " 'else is already': 18,\n",
       " 'is already taken': 32,\n",
       " 'room without': 40,\n",
       " 'without books': 62,\n",
       " 'books is': 11,\n",
       " 'is like': 33,\n",
       " 'like body': 35,\n",
       " 'body without': 9,\n",
       " 'without soul': 64,\n",
       " 'room without books': 41,\n",
       " 'without books is': 63,\n",
       " 'books is like': 12,\n",
       " 'is like body': 34,\n",
       " 'like body without': 36,\n",
       " 'body without soul': 10,\n",
       " 'be the': 5,\n",
       " 'the change': 47,\n",
       " 'change you': 13,\n",
       " 'you wish': 69,\n",
       " 'wish to': 60,\n",
       " 'to see': 56,\n",
       " 'see in': 42,\n",
       " 'in the': 29,\n",
       " 'the world': 51,\n",
       " 'be the change': 6,\n",
       " 'the change you': 48,\n",
       " 'change you wish': 14,\n",
       " 'you wish to': 70,\n",
       " 'wish to see': 61,\n",
       " 'to see in': 57,\n",
       " 'see in the': 43,\n",
       " 'in the world': 30,\n",
       " 'if you': 27,\n",
       " 'you tell': 67,\n",
       " 'tell the': 45,\n",
       " 'the truth': 49,\n",
       " 'truth you': 58,\n",
       " 'you don': 65,\n",
       " 'don have': 15,\n",
       " 'have to': 25,\n",
       " 'to remember': 54,\n",
       " 'remember anything': 39,\n",
       " 'if you tell': 28,\n",
       " 'you tell the': 68,\n",
       " 'tell the truth': 46,\n",
       " 'the truth you': 50,\n",
       " 'truth you don': 59,\n",
       " 'you don have': 66,\n",
       " 'don have to': 16,\n",
       " 'have to remember': 26,\n",
       " 'to remember anything': 55,\n",
       " 'always forgive': 1,\n",
       " 'forgive your': 23,\n",
       " 'your enemies': 71,\n",
       " 'enemies nothing': 19,\n",
       " 'nothing annoys': 37,\n",
       " 'annoys them': 3,\n",
       " 'them so': 52,\n",
       " 'so much': 44,\n",
       " 'always forgive your': 2,\n",
       " 'forgive your enemies': 24,\n",
       " 'your enemies nothing': 72,\n",
       " 'enemies nothing annoys': 20,\n",
       " 'nothing annoys them': 38,\n",
       " 'annoys them so': 4,\n",
       " 'them so much': 53}"
      ]
     },
     "execution_count": 13,
     "metadata": {},
     "output_type": "execute_result"
    }
   ],
   "source": [
    "ngv.vocabulary_"
   ]
  },
  {
   "cell_type": "code",
   "execution_count": 14,
   "metadata": {},
   "outputs": [
    {
     "data": {
      "text/plain": [
       "[array(['already taken'], dtype='<U22')]"
      ]
     },
     "execution_count": 14,
     "metadata": {},
     "output_type": "execute_result"
    }
   ],
   "source": [
    "ngcv.inverse_transform(ngv)"
   ]
  }
 ],
 "metadata": {
  "kernelspec": {
   "display_name": "Python 3",
   "language": "python",
   "name": "python3"
  },
  "language_info": {
   "codemirror_mode": {
    "name": "ipython",
    "version": 3
   },
   "file_extension": ".py",
   "mimetype": "text/x-python",
   "name": "python",
   "nbconvert_exporter": "python",
   "pygments_lexer": "ipython3",
   "version": "3.8.3"
  }
 },
 "nbformat": 4,
 "nbformat_minor": 4
}
