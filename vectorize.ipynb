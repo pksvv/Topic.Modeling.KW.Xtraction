{
 "cells": [
  {
   "cell_type": "code",
   "execution_count": 1,
   "metadata": {},
   "outputs": [
    {
     "data": {
      "text/plain": [
       "'0.23.2'"
      ]
     },
     "execution_count": 1,
     "metadata": {},
     "output_type": "execute_result"
    }
   ],
   "source": [
    "import sklearn\n",
    "sklearn.__version__"
   ]
  },
  {
   "cell_type": "code",
   "execution_count": 2,
   "metadata": {},
   "outputs": [],
   "source": [
    "from sklearn.feature_extraction.text import CountVectorizer, TfidfVectorizer"
   ]
  },
  {
   "cell_type": "code",
   "execution_count": 5,
   "metadata": {},
   "outputs": [],
   "source": [
    "train = ['Be yourself, everyone else is already taken.',\n",
    "         'A room without books is like a body without a soul.',\n",
    "         'Be the change you wish to see in the world.',\n",
    "         \"If you tell the truth, you don't have to remember anything\",\n",
    "         'Always forgive your enemies, nothing annoys them so much.']"
   ]
  },
  {
   "cell_type": "code",
   "execution_count": 6,
   "metadata": {},
   "outputs": [
    {
     "data": {
      "text/plain": [
       "['Be yourself, everyone else is already taken.',\n",
       " 'A room without books is like a body without a soul.',\n",
       " 'Be the change you wish to see in the world.',\n",
       " \"If you tell the truth, you don't have to remember anything\",\n",
       " 'Always forgive your enemies, nothing annoys them so much.']"
      ]
     },
     "execution_count": 6,
     "metadata": {},
     "output_type": "execute_result"
    }
   ],
   "source": [
    "train"
   ]
  },
  {
   "cell_type": "code",
   "execution_count": 7,
   "metadata": {},
   "outputs": [
    {
     "data": {
      "text/plain": [
       "CountVectorizer()"
      ]
     },
     "execution_count": 7,
     "metadata": {},
     "output_type": "execute_result"
    }
   ],
   "source": [
    "cv = CountVectorizer()\n",
    "cv.fit(train)"
   ]
  },
  {
   "cell_type": "code",
   "execution_count": 8,
   "metadata": {},
   "outputs": [
    {
     "data": {
      "text/plain": [
       "{'be': 4,\n",
       " 'yourself': 36,\n",
       " 'everyone': 11,\n",
       " 'else': 9,\n",
       " 'is': 16,\n",
       " 'already': 0,\n",
       " 'taken': 25,\n",
       " 'room': 21,\n",
       " 'without': 32,\n",
       " 'books': 6,\n",
       " 'like': 17,\n",
       " 'body': 5,\n",
       " 'soul': 24,\n",
       " 'the': 27,\n",
       " 'change': 7,\n",
       " 'you': 34,\n",
       " 'wish': 31,\n",
       " 'to': 29,\n",
       " 'see': 22,\n",
       " 'in': 15,\n",
       " 'world': 33,\n",
       " 'if': 14,\n",
       " 'tell': 26,\n",
       " 'truth': 30,\n",
       " 'don': 8,\n",
       " 'have': 13,\n",
       " 'remember': 20,\n",
       " 'anything': 3,\n",
       " 'always': 1,\n",
       " 'forgive': 12,\n",
       " 'your': 35,\n",
       " 'enemies': 10,\n",
       " 'nothing': 19,\n",
       " 'annoys': 2,\n",
       " 'them': 28,\n",
       " 'so': 23,\n",
       " 'much': 18}"
      ]
     },
     "execution_count": 8,
     "metadata": {},
     "output_type": "execute_result"
    }
   ],
   "source": [
    "cv.vocabulary_"
   ]
  },
  {
   "cell_type": "code",
   "execution_count": 9,
   "metadata": {},
   "outputs": [
    {
     "data": {
      "text/plain": [
       "3"
      ]
     },
     "execution_count": 9,
     "metadata": {},
     "output_type": "execute_result"
    }
   ],
   "source": [
    "cv.vocabulary_.get('anything')"
   ]
  },
  {
   "cell_type": "code",
   "execution_count": 10,
   "metadata": {},
   "outputs": [
    {
     "data": {
      "text/plain": [
       "<5x37 sparse matrix of type '<class 'numpy.int64'>'\n",
       "\twith 42 stored elements in Compressed Sparse Row format>"
      ]
     },
     "execution_count": 10,
     "metadata": {},
     "output_type": "execute_result"
    }
   ],
   "source": [
    "tr_vec = cv.transform(train)\n",
    "tr_vec"
   ]
  },
  {
   "cell_type": "code",
   "execution_count": 11,
   "metadata": {},
   "outputs": [
    {
     "name": "stdout",
     "output_type": "stream",
     "text": [
      "[[1 0 0 0 1 0 0 0 0 1 0 1 0 0 0 0 1 0 0 0 0 0 0 0 0 1 0 0 0 0 0 0 0 0 0 0\n",
      "  1]\n",
      " [0 0 0 0 0 1 1 0 0 0 0 0 0 0 0 0 1 1 0 0 0 1 0 0 1 0 0 0 0 0 0 0 2 0 0 0\n",
      "  0]\n",
      " [0 0 0 0 1 0 0 1 0 0 0 0 0 0 0 1 0 0 0 0 0 0 1 0 0 0 0 2 0 1 0 1 0 1 1 0\n",
      "  0]\n",
      " [0 0 0 1 0 0 0 0 1 0 0 0 0 1 1 0 0 0 0 0 1 0 0 0 0 0 1 1 0 1 1 0 0 0 2 0\n",
      "  0]\n",
      " [0 1 1 0 0 0 0 0 0 0 1 0 1 0 0 0 0 0 1 1 0 0 0 1 0 0 0 0 1 0 0 0 0 0 0 1\n",
      "  0]]\n"
     ]
    }
   ],
   "source": [
    "print(tr_vec.toarray())"
   ]
  },
  {
   "cell_type": "code",
   "execution_count": 12,
   "metadata": {},
   "outputs": [
    {
     "data": {
      "text/plain": [
       "[array(['already', 'be', 'else', 'everyone', 'is', 'taken', 'yourself'],\n",
       "       dtype='<U8'),\n",
       " array(['body', 'books', 'is', 'like', 'room', 'soul', 'without'],\n",
       "       dtype='<U8'),\n",
       " array(['be', 'change', 'in', 'see', 'the', 'to', 'wish', 'world', 'you'],\n",
       "       dtype='<U8'),\n",
       " array(['anything', 'don', 'have', 'if', 'remember', 'tell', 'the', 'to',\n",
       "        'truth', 'you'], dtype='<U8'),\n",
       " array(['always', 'annoys', 'enemies', 'forgive', 'much', 'nothing', 'so',\n",
       "        'them', 'your'], dtype='<U8')]"
      ]
     },
     "execution_count": 12,
     "metadata": {},
     "output_type": "execute_result"
    }
   ],
   "source": [
    "cv.inverse_transform(tr_vec)"
   ]
  },
  {
   "cell_type": "code",
   "execution_count": null,
   "metadata": {},
   "outputs": [],
   "source": []
  },
  {
   "cell_type": "code",
   "execution_count": null,
   "metadata": {},
   "outputs": [],
   "source": []
  },
  {
   "cell_type": "code",
   "execution_count": null,
   "metadata": {},
   "outputs": [],
   "source": []
  },
  {
   "cell_type": "code",
   "execution_count": null,
   "metadata": {},
   "outputs": [],
   "source": []
  },
  {
   "cell_type": "code",
   "execution_count": null,
   "metadata": {},
   "outputs": [],
   "source": []
  },
  {
   "cell_type": "code",
   "execution_count": null,
   "metadata": {},
   "outputs": [],
   "source": []
  },
  {
   "cell_type": "code",
   "execution_count": null,
   "metadata": {},
   "outputs": [],
   "source": []
  },
  {
   "cell_type": "code",
   "execution_count": null,
   "metadata": {},
   "outputs": [],
   "source": []
  },
  {
   "cell_type": "code",
   "execution_count": null,
   "metadata": {},
   "outputs": [],
   "source": []
  }
 ],
 "metadata": {
  "kernelspec": {
   "display_name": "Python 3",
   "language": "python",
   "name": "python3"
  },
  "language_info": {
   "codemirror_mode": {
    "name": "ipython",
    "version": 3
   },
   "file_extension": ".py",
   "mimetype": "text/x-python",
   "name": "python",
   "nbconvert_exporter": "python",
   "pygments_lexer": "ipython3",
   "version": "3.8.3"
  }
 },
 "nbformat": 4,
 "nbformat_minor": 4
}
